import numpy as np
import pandas as pd

# Parameters for data generation
fs = 50  # Sampling frequency in Hz
duration = 120  # Duration in seconds (2 minutes)
t = np.arange(0, duration, 1/fs)  # Time vector
resp_rate_normal = 0.25  # Normal respiratory rate (Hz, ~15 breaths per minute)
resp_rate_apnea = 0.1  # Reduced respiratory rate during apnea (Hz)

# Generate normal respiratory signal (sinusoidal)
normal_resp = np.sin(2 * np.pi * resp_rate_normal * t)

# Add Gaussian noise
noise = 0.05 * np.random.randn(len(t))
noisy_resp = normal_resp + noise

# Introduce apnea events (flat or reduced amplitude)
apnea_duration = 15  # Duration of each apnea event in seconds
apnea_samples = int(fs * apnea_duration)  # Number of samples per apnea event

# Apnea event at 30 seconds (flatline)
apnea_start_1 = int(fs * 30)
apnea_end_1 = apnea_start_1 + apnea_samples
noisy_resp[apnea_start_1:apnea_end_1] = 0

# Apnea event at 90 seconds (reduced amplitude)
apnea_start_2 = int(fs * 90)
apnea_end_2 = apnea_start_2 + apnea_samples
noisy_resp[apnea_start_2:apnea_end_2] = 0.2 * np.sin(2 * np.pi * resp_rate_apnea * t[apnea_start_2:apnea_end_2])

# Generate labels: 0 for normal, 1 for apnea
labels = np.zeros_like(t)
labels[apnea_start_1:apnea_end_1] = 1  # Label for apnea event 1
labels[apnea_start_2:apnea_end_2] = 1  # Label for apnea event 2

# Create a DataFrame
data = pd.DataFrame({
    "Time": t,
    "RespiratorySignal": noisy_resp,
    "ApneaLabel": labels
})

# Save as CSV file
output_path = "Preprocessed_Respiratory_Data.csv"
data.to_csv(output_path, index=False)

print(f"Dataset saved as {output_path}")
